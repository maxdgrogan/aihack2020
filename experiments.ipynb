{
 "cells": [
  {
   "cell_type": "code",
   "execution_count": 1,
   "metadata": {},
   "outputs": [],
   "source": [
    "import torch\n",
    "import pandas as pd\n",
    "import numpy as np\n",
    "import sys \n",
    "from tqdm import tqdm\n",
    "\n",
    "from sklearn.preprocessing import MinMaxScaler\n",
    "import matplotlib.pyplot as plt\n",
    "sys.path.append(\"./\")\n",
    "from prediction.api import *\n",
    "from prediction.data_wrapper import get_loaders\n",
    "from pickle import dump\n",
    "import torch.nn.functional as F"
   ]
  },
  {
   "cell_type": "code",
   "execution_count": 2,
   "metadata": {},
   "outputs": [],
   "source": [
    "args.data = './data/processed/processed_cleaned_df_2.csv'\n",
    "args.input_size = [33]\n",
    "args.hidden_size = 100\n",
    "args.number_of_layers = 1\n",
    "args.output_size = [1]\n",
    "args.test_portion = 0.2 \n",
    "args.train_window = 12\n",
    "args.batch_size = 64\n",
    "args.learning_rate = 0.001\n",
    "args.weight_decay = 0.0001\n",
    "args.gpu = 0 \n",
    "args.epochs = 100\n",
    "args.log_freq = 30\n",
    "args.debug = False\n",
    "args.seed = 1\n",
    "args.samples = 20\n",
    "args.dropout = 0.3"
   ]
  },
  {
   "cell_type": "code",
   "execution_count": 3,
   "metadata": {},
   "outputs": [
    {
     "name": "stdout",
     "output_type": "stream",
     "text": [
      "Network(\n",
      "  (lstm): LSTM(33, 100, batch_first=True, dropout=0.3)\n",
      "  (linear): Linear(in_features=100, out_features=1, bias=True)\n",
      ")\n"
     ]
    },
    {
     "name": "stderr",
     "output_type": "stream",
     "text": [
      "/home/killko/Desktop/aihack2020/venv/lib/python3.7/site-packages/torch/nn/modules/rnn.py:50: UserWarning: dropout option adds dropout after all but last recurrent layer, so non-zero dropout expects num_layers greater than 1, but got dropout=0.3 and num_layers=1\n",
      "  \"num_layers={}\".format(dropout, num_layers))\n"
     ]
    }
   ],
   "source": [
    "model, scaler = get_model()\n",
    "print(model)"
   ]
  },
  {
   "cell_type": "code",
   "execution_count": 4,
   "metadata": {},
   "outputs": [
    {
     "name": "stdout",
     "output_type": "stream",
     "text": [
      "      GPs  month      07    0304   0411  050103  131002   010305       01  \\\n",
      "0  A81001      1  7271.0  4071.0  758.0  1476.0   185.0  13032.0  69503.0   \n",
      "1  A81001      2  8527.0  4071.0  758.0  1427.0   191.0  12740.0  78753.0   \n",
      "2  A81001      3  6402.0  3928.0  758.0  1278.0   198.0  11574.0  65473.0   \n",
      "3  A81001      4  7295.0  4836.0  758.0  1537.0   231.0  13019.0  74436.0   \n",
      "4  A81001      5  6671.0  5153.0  758.0  1436.0   280.0  11824.0  65084.0   \n",
      "\n",
      "       05  ...  030401       13           12     0106     1302       10  \\\n",
      "0  9767.0  ...  4310.0  59472.0   886.000000  19797.0  49930.0  15657.0   \n",
      "1  9767.0  ...  4064.0  59472.0   994.666667  24304.0  49930.0  12903.0   \n",
      "2  9767.0  ...  3928.0  59472.0  1103.333333  20416.0  44955.0  13236.0   \n",
      "3  9767.0  ...  4836.0  58722.0  1212.000000  24713.0  45005.0  14082.0   \n",
      "4  9767.0  ...  5152.0  57972.0   817.000000  20309.0  42955.0  12972.0   \n",
      "\n",
      "    130201  050108    0603   010604  \n",
      "0  41880.0   998.0  4034.0  10939.0  \n",
      "1  48830.0  1568.0  4310.0  11102.0  \n",
      "2  44555.0  1970.0  2456.0  11762.0  \n",
      "3  44155.0  1532.0  2551.0  15466.0  \n",
      "4  42365.0  1034.0  2239.0  10967.0  \n",
      "\n",
      "[5 rows x 34 columns]\n"
     ]
    }
   ],
   "source": [
    "df = pd.read_csv(args.data).iloc[:,1:]\n",
    "\n",
    "print(df.head())"
   ]
  },
  {
   "cell_type": "code",
   "execution_count": 5,
   "metadata": {},
   "outputs": [],
   "source": [
    "data = df.to_numpy()\n",
    "gps = data[:,0]\n",
    "features = data[:,1:]\n",
    "label_index = df.columns.get_loc('0301')"
   ]
  },
  {
   "cell_type": "code",
   "execution_count": 6,
   "metadata": {},
   "outputs": [
    {
     "name": "stdout",
     "output_type": "stream",
     "text": [
      "(394458, 33) (394458,)\n"
     ]
    }
   ],
   "source": [
    "print(features.shape, gps.shape)"
   ]
  },
  {
   "cell_type": "code",
   "execution_count": 7,
   "metadata": {},
   "outputs": [],
   "source": [
    "total_size = len(features)\n",
    "test_size = int(args.test_portion * total_size)\n",
    "\n",
    "test_data = features[:test_size]\n",
    "\n",
    "test_gps = gps[:test_size]\n",
    "\n",
    "test_unique_gps = np.unique(test_gps)\n",
    "test_data_normalized = scaler.transform(test_data)\n",
    "test_data_normalized = torch.FloatTensor(test_data_normalized)"
   ]
  },
  {
   "cell_type": "code",
   "execution_count": 8,
   "metadata": {},
   "outputs": [
    {
     "name": "stderr",
     "output_type": "stream",
     "text": [
      "100%|██████████| 78878/78878 [00:01<00:00, 53666.87it/s]\n"
     ]
    }
   ],
   "source": [
    "def create_inout_sequences(input_data,_gps,_unique_gps,_label_index, tw):\n",
    "    X = []\n",
    "    Y = []\n",
    "    counter = 0\n",
    "    for i in tqdm(range(len(input_data)-tw-1)):\n",
    "        seq = input_data[i:i+tw]\n",
    "        label = input_data[i+tw:i+tw+1,_label_index]\n",
    "        if counter == 57:\n",
    "            counter = 0\n",
    "            continue\n",
    "        seq = np.array(seq, dtype=np.float32)\n",
    "        label = np.array(label, dtype = np.float32)\n",
    "        X.append(torch.from_numpy(seq).float())\n",
    "        Y.append(torch.from_numpy(label).float())\n",
    "        counter+=1\n",
    "\n",
    "    return X, Y\n",
    "X_test, Y_test = create_inout_sequences(test_data_normalized, test_gps, test_unique_gps, label_index, args.train_window)"
   ]
  },
  {
   "cell_type": "code",
   "execution_count": 9,
   "metadata": {},
   "outputs": [
    {
     "name": "stdout",
     "output_type": "stream",
     "text": [
      "torch.Size([77519, 12, 33]) torch.Size([77519, 1])\n"
     ]
    }
   ],
   "source": [
    "X_test = torch.stack(X_test)\n",
    "Y_test = torch.stack(Y_test)\n",
    "print(X_test.shape, Y_test.shape)"
   ]
  },
  {
   "cell_type": "code",
   "execution_count": 10,
   "metadata": {},
   "outputs": [
    {
     "name": "stdout",
     "output_type": "stream",
     "text": [
      "[-1.         -0.9999188  -0.99983764 ...  0.61490685  0.64064467\n",
      "  0.7274388 ]\n"
     ]
    },
    {
     "data": {
      "text/plain": [
       "Text(0.5, 1.0, 'Drug prescription 10')"
      ]
     },
     "execution_count": 10,
     "metadata": {},
     "output_type": "execute_result"
    },
    {
     "data": {
      "image/png": "[encoded data removed]",
      "text/plain": [
       "<Figure size 432x288 with 1 Axes>"
      ]
     },
     "metadata": {
      "needs_background": "light"
     },
     "output_type": "display_data"
    }
   ],
   "source": [
    "outs = []\n",
    "golden_outs = []\n",
    "stds = []\n",
    "model.train()\n",
    "print(np.unique(Y_test))\n",
    "for i in range(40000,40045):\n",
    "    feature_vector = X_test[i,:]\n",
    "    ys = []\n",
    "    for sample in range(args.samples):\n",
    "        y = model(feature_vector.unsqueeze(dim=0))\n",
    "        f = torch.zeros((1, args.input_size[0])).t()\n",
    "        f[label_index] = y.item()\n",
    "        y_transformed = float(scaler.inverse_transform(f.t()).reshape(-1)[label_index])\n",
    "        ys.append(torch.tensor([y_transformed]))\n",
    "    ys = torch.stack(ys)\n",
    "    outs.append(torch.mean(ys).item())\n",
    "    stds.append(torch.std(ys).item())\n",
    "    f = torch.zeros((1, args.input_size[0])).t()\n",
    "    f[label_index] = Y_test[i]\n",
    "    golden_outs.append(scaler.inverse_transform(f.t()).reshape(-1)[label_index])\n",
    "\n",
    "plt.plot(outs, label=\"Predicted consumption\")\n",
    "plt.plot(golden_outs, '--', label =\"Real consumption\")\n",
    "x = np.arange(len(outs))\n",
    "plt.errorbar(x = x, y=outs, yerr = [s*2 for s in stds])\n",
    "plt.legend()\n",
    "plt.xlabel(\"Time [Months]\")\n",
    "plt.ylabel(\"Quantity\")\n",
    "plt.title(\"Drug prescription {}\".format(label_index))\n"
   ]
  },
  {
   "cell_type": "code",
   "execution_count": null,
   "metadata": {},
   "outputs": [],
   "source": [
    "mse = 0.0\n",
    "std = 0.0\n",
    "for i in range(len(X_test[:1000])):\n",
    "    ys = []\n",
    "    for sample in range(args.samples):\n",
    "        y = model(X_test[i].unsqueeze(dim=0))\n",
    "        f = torch.zeros(1,args.input_size[0])\n",
    "        f[0,label_index] = y.item()\n",
    "        y_pred = torch.tensor([float(scaler.inverse_transform(f).reshape(-1)[label_index])])\n",
    "        ys.append(y_pred)\n",
    "\n",
    "    y = torch.stack(ys).mean()\n",
    "    std += torch.stack(ys).std()\n",
    "    f = torch.zeros(1,args.input_size[0])\n",
    "    f[0,label_index] = Y_test[i]\n",
    "    y = torch.tensor([float(scaler.inverse_transform(f).reshape(-1)[label_index])])\n",
    "\n",
    "    mse+=F.mse_loss(y_pred, y)\n",
    "std/=len(X_test[:1000])\n",
    "mse/=len(X_test[:1000])\n",
    "print(\"MSE: {}\".format(mse))\n",
    "print(\"Std: {}\".format(std))\n"
   ]
  },
  {
   "cell_type": "code",
   "execution_count": null,
   "metadata": {},
   "outputs": [],
   "source": []
  }
 ],
 "metadata": {
  "file_extension": ".py",
  "kernelspec": {
   "display_name": "Python 3.7.5 64-bit ('venv': virtualenv)",
   "language": "python",
   "name": "python37564bitvenvvirtualenv4480621b32bf448698890c41c00a173c"
  },
  "language_info": {
   "codemirror_mode": {
    "name": "ipython",
    "version": 3
   },
   "file_extension": ".py",
   "mimetype": "text/x-python",
   "name": "python",
   "nbconvert_exporter": "python",
   "pygments_lexer": "ipython3",
   "version": "3.7.5"
  },
  "mimetype": "text/x-python",
  "name": "python",
  "npconvert_exporter": "python",
  "pygments_lexer": "ipython3",
  "version": 3
 },
 "nbformat": 4,
 "nbformat_minor": 2
}
