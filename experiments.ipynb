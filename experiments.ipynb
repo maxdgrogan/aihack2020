{
 "cells": [
  {
   "cell_type": "code",
   "execution_count": 1,
   "metadata": {},
   "outputs": [],
   "source": [
    "import torch\n",
    "import pandas as pd\n",
    "import numpy as np\n",
    "import sys \n",
    "from tqdm import tqdm\n",
    "\n",
    "from sklearn.preprocessing import MinMaxScaler\n",
    "import matplotlib.pyplot as plt\n",
    "sys.path.append(\"./\")\n",
    "from prediction.api import *\n",
    "from prediction.data_wrapper import get_loaders\n",
    "from pickle import dump\n",
    "import torch.nn.functional as F"
   ]
  },
  {
   "cell_type": "code",
   "execution_count": 2,
   "metadata": {},
   "outputs": [],
   "source": [
    "args.data = './data/processed/processed_cleaned_df_2.csv'\n",
    "args.input_size = [33]\n",
    "args.hidden_size = 300\n",
    "args.number_of_layers = 4\n",
    "args.output_size = [1]\n",
    "args.test_portion = 0.2 \n",
    "args.train_window = 12\n",
    "args.batch_size = 64\n",
    "args.learning_rate = 0.001\n",
    "args.weight_decay = 0.0001\n",
    "args.gpu = 0 \n",
    "args.epochs = 100\n",
    "args.log_freq = 30\n",
    "args.debug = False\n",
    "args.seed = 1\n",
    "args.samples = 20\n",
    "args.dropout = 0.3"
   ]
  },
  {
   "cell_type": "code",
   "execution_count": 3,
   "metadata": {},
   "outputs": [
    {
     "name": "stdout",
     "output_type": "stream",
     "text": [
      "Network(\n",
      "  (lstm): LSTM(33, 300, batch_first=True, dropout=0.3)\n",
      "  (linear): Linear(in_features=300, out_features=1, bias=True)\n",
      ")\n"
     ]
    },
    {
     "name": "stderr",
     "output_type": "stream",
     "text": [
      "/home/killko/Desktop/aihack2020/venv/lib/python3.7/site-packages/torch/nn/modules/rnn.py:50: UserWarning: dropout option adds dropout after all but last recurrent layer, so non-zero dropout expects num_layers greater than 1, but got dropout=0.3 and num_layers=1\n",
      "  \"num_layers={}\".format(dropout, num_layers))\n"
     ]
    }
   ],
   "source": [
    "model, scaler = get_model()\n",
    "print(model)"
   ]
  },
  {
   "cell_type": "code",
   "execution_count": 4,
   "metadata": {},
   "outputs": [
    {
     "name": "stdout",
     "output_type": "stream",
     "text": [
      "      GPs  month      07    0304   0411  050103  131002   010305       01  \\\n",
      "0  A81001      1  7271.0  4071.0  758.0  1476.0   185.0  13032.0  69503.0   \n",
      "1  A81001      2  8527.0  4071.0  758.0  1427.0   191.0  12740.0  78753.0   \n",
      "2  A81001      3  6402.0  3928.0  758.0  1278.0   198.0  11574.0  65473.0   \n",
      "3  A81001      4  7295.0  4836.0  758.0  1537.0   231.0  13019.0  74436.0   \n",
      "4  A81001      5  6671.0  5153.0  758.0  1436.0   280.0  11824.0  65084.0   \n",
      "\n",
      "       05  ...  030401       13           12     0106     1302       10  \\\n",
      "0  9767.0  ...  4310.0  59472.0   886.000000  19797.0  49930.0  15657.0   \n",
      "1  9767.0  ...  4064.0  59472.0   994.666667  24304.0  49930.0  12903.0   \n",
      "2  9767.0  ...  3928.0  59472.0  1103.333333  20416.0  44955.0  13236.0   \n",
      "3  9767.0  ...  4836.0  58722.0  1212.000000  24713.0  45005.0  14082.0   \n",
      "4  9767.0  ...  5152.0  57972.0   817.000000  20309.0  42955.0  12972.0   \n",
      "\n",
      "    130201  050108    0603   010604  \n",
      "0  41880.0   998.0  4034.0  10939.0  \n",
      "1  48830.0  1568.0  4310.0  11102.0  \n",
      "2  44555.0  1970.0  2456.0  11762.0  \n",
      "3  44155.0  1532.0  2551.0  15466.0  \n",
      "4  42365.0  1034.0  2239.0  10967.0  \n",
      "\n",
      "[5 rows x 34 columns]\n"
     ]
    }
   ],
   "source": [
    "df = pd.read_csv(args.data).iloc[:,1:]\n",
    "\n",
    "print(df.head())"
   ]
  },
  {
   "cell_type": "code",
   "execution_count": 5,
   "metadata": {},
   "outputs": [],
   "source": [
    "data = df.to_numpy()\n",
    "gps = data[:,0]\n",
    "features = data[:,1:]\n",
    "label_index = df.columns.get_loc('0411')"
   ]
  },
  {
   "cell_type": "code",
   "execution_count": 6,
   "metadata": {},
   "outputs": [
    {
     "name": "stdout",
     "output_type": "stream",
     "text": [
      "(394458, 33) (394458,)\n"
     ]
    }
   ],
   "source": [
    "print(features.shape, gps.shape)"
   ]
  },
  {
   "cell_type": "code",
   "execution_count": 7,
   "metadata": {},
   "outputs": [],
   "source": [
    "total_size = len(features)\n",
    "train_size = int((1-args.test_portion) * total_size)\n",
    "\n",
    "test_data = features[train_size:]\n",
    "\n",
    "test_gps = gps[train_size:]\n",
    "\n",
    "test_unique_gps = np.unique(test_gps)\n",
    "test_data_normalized = scaler.transform(test_data)\n",
    "test_data_normalized = torch.FloatTensor(test_data_normalized)"
   ]
  },
  {
   "cell_type": "code",
   "execution_count": 8,
   "metadata": {},
   "outputs": [
    {
     "name": "stderr",
     "output_type": "stream",
     "text": [
      "100%|██████████| 1361/1361 [00:02<00:00, 516.30it/s]\n"
     ]
    }
   ],
   "source": [
    "def create_inout_sequences(input_data,_gps,_unique_gps,_label_index, tw):\n",
    "    X = []\n",
    "    Y = []\n",
    "    for i in tqdm(range(len(_unique_gps))):\n",
    "        for j in range(len(_gps[_gps == _unique_gps[i]]) - tw):\n",
    "            seq = input_data[j:j+tw]\n",
    "            label = input_data[j+tw:j+tw+1,_label_index]\n",
    "            seq = np.array(seq, dtype=np.float32)\n",
    "            label = np.array(label, dtype = np.float32)\n",
    "            X.append(torch.from_numpy(seq).float())\n",
    "            Y.append(torch.from_numpy(label).float())\n",
    "\n",
    "    return X, Y\n",
    "X_test, Y_test = create_inout_sequences(test_data_normalized, test_gps, test_unique_gps, label_index, args.train_window)"
   ]
  },
  {
   "cell_type": "code",
   "execution_count": 9,
   "metadata": {},
   "outputs": [
    {
     "name": "stdout",
     "output_type": "stream",
     "text": [
      "torch.Size([62560, 12, 33]) torch.Size([62560, 1])\n"
     ]
    }
   ],
   "source": [
    "X_test = torch.stack(X_test)\n",
    "Y_test = torch.stack(Y_test)\n",
    "print(X_test.shape, Y_test.shape)"
   ]
  },
  {
   "cell_type": "code",
   "execution_count": 10,
   "metadata": {},
   "outputs": [
    {
     "name": "stdout",
     "output_type": "stream",
     "text": [
      "[2217.000103771686, 1834.949617773294, 2239.0246587693687, 1741.1153623759742, 2498.3030995428558, 2765.0812325477596, 1848.594526648521, 3044.7357206642623, 2520.421916186809, 2299.4179884195323, 2825.8457174301143, 2018.932283967733, 2767.7382327020164, 1727.5759622752662, 2577.802622199058, 2193.9177831411357, 3033.6230223774905, 2102.668224930763, 2237.286174088716, 2195.7933756709094, 2372.439165204763, 1880.437824606895, 2348.437257945537, 2567.8280261754985, 2405.0354851782317, 2222.2535838186736, 2587.9871646165843, 2074.1669307947154, 2625.710568338632, 2078.91589680314, 2434.880543351173, 1851.1706545948978, 2529.8839645087714, 1821.4814494848247, 2102.6339479684825, 2443.2714366018768, 2542.5316280126567, 1763.900973051786, 2747.255069851875, 2022.0605923533435, 2439.078935652971, 2476.040748119354, 2085.5077851116653, 2330.8622811138625, 1679.8479701876636, 2341.667557895183] [2217.000103771686, 3088.0002095699306, 2448.0000506639476, 3217.9998736381526, 3600.9999386072154, 3009.9997684359546, 3544.9999514818187, 2776.0000517666335, 2583.9997898638244, 2685.000072687864, 2373.9998381435867, 2771.9998231530185, 2959.9998564422126, 3488.000041097402, 4003.0001522302623, 2833.99988541007, 2997.000230491161, 2917.999866098165, 2893.749986439943, 2869.5001067817207, 2845.2502271234985, 2820.9998118877406, 2727.0000630319114, 3506.0002664923663, 2762.999978244304, 3367.0002219378944, 2615.000088781118, 3077.999905824661, 3470.9997389614578, 2266.0000925064082, 2969.0002369284625, 3294.999855935573, 2839.9999605417247, 2732.0002149045463, 2727.9999862909312, 2932.999786138534, 2070.0001375675197, 2702.9997625052924, 2518.0000345706935, 2129.999817728996, 2475.000120967626, 2356.000148326158, 1848.0000355839725, 2508.0002664029594, 2309.9999293684955, 2071.9999840855594]\n"
     ]
    },
    {
     "data": {
      "image/png": "[encoded data removed]",
      "text/plain": [
       "<Figure size 432x288 with 1 Axes>"
      ]
     },
     "metadata": {
      "needs_background": "light"
     },
     "output_type": "display_data"
    }
   ],
   "source": [
    "\n",
    "outs = []\n",
    "scaled_outs = []\n",
    "golden_outs = []\n",
    "buffer = []\n",
    "feature_vector = X_test[0,:]\n",
    "with torch.no_grad():\n",
    "    for i in range(0,46):\n",
    "        ys = []\n",
    "        for sample in range(args.samples):\n",
    "            y = model(feature_vector.unsqueeze(dim=0))\n",
    "            ys.append(y)\n",
    "        ys = torch.stack(ys)\n",
    "        outs.append(torch.mean(ys).item())\n",
    "        feature_vector = X_test[i]\n",
    "        golden_outs.append(scaler.inverse_transform(feature_vector[-1].view(1,-1)).reshape(-1)[label_index])\n",
    "        c = 1\n",
    "        while c<=12 and c<len(outs):\n",
    "            feature_vector[-c, label_index] = outs[-c]\n",
    "            c+=1\n",
    "\n",
    "        scaled_outs.append(scaler.inverse_transform(feature_vector[-1].view(1,-1)).reshape(-1)[label_index])\n",
    "plt.plot(scaled_outs, label=\"Predicted consumption\")\n",
    "plt.plot(golden_outs, '--', label =\"Real consumption\")\n",
    "\n",
    "plt.legend()\n",
    "plt.xlabel(\"Time [Months]\")\n",
    "plt.ylabel(\"Quantity\")\n",
    "plt.title(\"Drug prescription {}\".format(label_index))\n",
    "print(scaled_outs, golden_outs)"
   ]
  },
  {
   "cell_type": "code",
   "execution_count": 11,
   "metadata": {},
   "outputs": [
    {
     "name": "stdout",
     "output_type": "stream",
     "text": [
      "MSE: 699917.5625\n",
      "Std: 0.0\n"
     ]
    }
   ],
   "source": [
    "mse = 0.0\n",
    "std = 0.0\n",
    "with torch.no_grad():\n",
    "    for i in range(len(X_test[:1000])):\n",
    "        ys = []\n",
    "        for sample in range(args.samples):\n",
    "            y = model(X_test[i].unsqueeze(dim=0))\n",
    "            f = torch.zeros(1,args.input_size[0])\n",
    "            f[0,label_index] = y\n",
    "            y_pred = torch.tensor([float(scaler.inverse_transform(f).reshape(-1)[label_index])])\n",
    "            ys.append(y_pred)\n",
    "\n",
    "        y = torch.stack(ys).mean()\n",
    "        std += torch.stack(ys).std()\n",
    "        f = torch.zeros(1,args.input_size[0])\n",
    "        f[0,label_index] = Y_test[i]\n",
    "        y = torch.tensor([float(scaler.inverse_transform(f).reshape(-1)[label_index])])\n",
    "\n",
    "        mse+=F.mse_loss(y_pred, y)\n",
    "std/=len(X_test[:1000])\n",
    "mse/=len(X_test[:1000])\n",
    "print(\"MSE: {}\".format(mse))\n",
    "print(\"Std: {}\".format(std))\n"
   ]
  },
  {
   "cell_type": "code",
   "execution_count": null,
   "metadata": {},
   "outputs": [],
   "source": []
  }
 ],
 "metadata": {
  "file_extension": ".py",
  "kernelspec": {
   "display_name": "Python 3.7.5 64-bit ('venv': virtualenv)",
   "language": "python",
   "name": "python37564bitvenvvirtualenv4480621b32bf448698890c41c00a173c"
  },
  "language_info": {
   "codemirror_mode": {
    "name": "ipython",
    "version": 3
   },
   "file_extension": ".py",
   "mimetype": "text/x-python",
   "name": "python",
   "nbconvert_exporter": "python",
   "pygments_lexer": "ipython3",
   "version": "3.7.5"
  },
  "mimetype": "text/x-python",
  "name": "python",
  "npconvert_exporter": "python",
  "pygments_lexer": "ipython3",
  "version": 3
 },
 "nbformat": 4,
 "nbformat_minor": 2
}
